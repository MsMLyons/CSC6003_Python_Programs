{
  "cells": [
    {
      "cell_type": "code",
      "execution_count": null,
      "metadata": {
        "colab": {
          "base_uri": "https://localhost:8080/"
        },
        "id": "eq49hQ4Hd2lo",
        "outputId": "7e8df5a0-6999-4dc6-c4e9-6c83f035674e"
      },
      "outputs": [
        {
          "name": "stdout",
          "output_type": "stream",
          "text": [
            "My age is,62\n",
            "62\n"
          ]
        }
      ],
      "source": [
        "a = int(input(\"My age is,\"))\n",
        "print(a)"
      ]
    },
    {
      "cell_type": "code",
      "execution_count": null,
      "metadata": {
        "colab": {
          "base_uri": "https://localhost:8080/"
        },
        "id": "1L5YAFWfAWsZ",
        "outputId": "941dc23c-4e7a-41a4-826b-00e1c572e32e"
      },
      "outputs": [
        {
          "data": {
            "text/plain": [
              "13"
            ]
          },
          "execution_count": 1,
          "metadata": {},
          "output_type": "execute_result"
        }
      ],
      "source": [
        "9 + 4 * 3 - 2 ** 3"
      ]
    },
    {
      "cell_type": "code",
      "execution_count": null,
      "metadata": {
        "id": "EFXzERWfDX7h"
      },
      "outputs": [],
      "source": []
    },
    {
      "cell_type": "code",
      "execution_count": null,
      "metadata": {
        "id": "9icsMoJ-DbMV"
      },
      "outputs": [],
      "source": []
    },
    {
      "cell_type": "code",
      "execution_count": null,
      "metadata": {
        "colab": {
          "base_uri": "https://localhost:8080/"
        },
        "id": "TGFKXT_67I4x",
        "outputId": "ddfba1e5-ba5c-4480-f051-acb10605c0aa"
      },
      "outputs": [
        {
          "name": "stdout",
          "output_type": "stream",
          "text": [
            "52\n"
          ]
        }
      ],
      "source": [
        "a = 2+2*5**2\n",
        "print(a)"
      ]
    },
    {
      "cell_type": "code",
      "execution_count": null,
      "metadata": {
        "colab": {
          "base_uri": "https://localhost:8080/"
        },
        "id": "SF8_xpSl8Kfi",
        "outputId": "fc741e8a-b413-400b-ff27-ea0f6e6682eb"
      },
      "outputs": [
        {
          "name": "stdout",
          "output_type": "stream",
          "text": [
            "100\n"
          ]
        }
      ],
      "source": [
        "a = (2+2) * 5 ** 2\n",
        "print (a)"
      ]
    },
    {
      "cell_type": "code",
      "execution_count": null,
      "metadata": {
        "colab": {
          "base_uri": "https://localhost:8080/"
        },
        "id": "clsBVtWh8TzY",
        "outputId": "699c7cc3-f39d-4d06-e9c1-6129c380f3d4"
      },
      "outputs": [
        {
          "name": "stdout",
          "output_type": "stream",
          "text": [
            "17.0\n"
          ]
        }
      ],
      "source": [
        "a = 1 + 6*8/3 + 4 - 1 - 3\n",
        "print(a)"
      ]
    },
    {
      "cell_type": "code",
      "execution_count": null,
      "metadata": {
        "colab": {
          "base_uri": "https://localhost:8080/"
        },
        "id": "Oh5BlTej8f1q",
        "outputId": "6d91a0d1-7bd3-4ff0-865e-49b7cbb6c3f5"
      },
      "outputs": [
        {
          "name": "stdout",
          "output_type": "stream",
          "text": [
            "3\n"
          ]
        }
      ],
      "source": [
        "a = 15%2*3\n",
        "print (a)"
      ]
    },
    {
      "cell_type": "code",
      "execution_count": null,
      "metadata": {
        "colab": {
          "base_uri": "https://localhost:8080/"
        },
        "id": "o8NpSmiZ80nn",
        "outputId": "b48687e0-f897-4f6b-ca35-b931d5706bbc"
      },
      "outputs": [
        {
          "data": {
            "text/plain": [
              "6"
            ]
          },
          "execution_count": 5,
          "metadata": {},
          "output_type": "execute_result"
        }
      ],
      "source": [
        "1+2+3"
      ]
    },
    {
      "cell_type": "code",
      "execution_count": null,
      "metadata": {
        "colab": {
          "base_uri": "https://localhost:8080/",
          "height": 35
        },
        "id": "44Z1Ja_58_T6",
        "outputId": "c89cb88a-40e6-425d-c3eb-08c40561065a"
      },
      "outputs": [
        {
          "data": {
            "application/vnd.google.colaboratory.intrinsic+json": {
              "type": "string"
            },
            "text/plain": [
              "'rwc'"
            ]
          },
          "execution_count": 6,
          "metadata": {},
          "output_type": "execute_result"
        }
      ],
      "source": [
        "\"rw\" + \"c\""
      ]
    },
    {
      "cell_type": "code",
      "execution_count": null,
      "metadata": {
        "colab": {
          "base_uri": "https://localhost:8080/",
          "height": 35
        },
        "id": "g1ha0sHs9KQ9",
        "outputId": "5d69bde1-ba4c-4745-c6c0-ad8630840993"
      },
      "outputs": [
        {
          "data": {
            "application/vnd.google.colaboratory.intrinsic+json": {
              "type": "string"
            },
            "text/plain": [
              "'rwrw'"
            ]
          },
          "execution_count": 7,
          "metadata": {},
          "output_type": "execute_result"
        }
      ],
      "source": [
        "\"rw\" * 2"
      ]
    },
    {
      "cell_type": "code",
      "execution_count": null,
      "metadata": {
        "colab": {
          "base_uri": "https://localhost:8080/",
          "height": 35
        },
        "id": "Z1NiH2yG9znR",
        "outputId": "a981b90f-f151-4e5f-aed6-e6b4df791495"
      },
      "outputs": [
        {
          "data": {
            "application/vnd.google.colaboratory.intrinsic+json": {
              "type": "string"
            },
            "text/plain": [
              "'2rw'"
            ]
          },
          "execution_count": 10,
          "metadata": {},
          "output_type": "execute_result"
        }
      ],
      "source": [
        "\"2\" + \"rw\""
      ]
    },
    {
      "cell_type": "code",
      "execution_count": null,
      "metadata": {
        "colab": {
          "base_uri": "https://localhost:8080/"
        },
        "id": "6FMxaOiF9_8M",
        "outputId": "abeaed39-87b9-41d0-f68a-5608bcde6eba"
      },
      "outputs": [
        {
          "data": {
            "text/plain": [
              "str"
            ]
          },
          "execution_count": 12,
          "metadata": {},
          "output_type": "execute_result"
        }
      ],
      "source": [
        "a = str(5)\n",
        "type(a)\n"
      ]
    },
    {
      "cell_type": "code",
      "execution_count": null,
      "metadata": {
        "colab": {
          "base_uri": "https://localhost:8080/"
        },
        "id": "6vmqsvQy-iH8",
        "outputId": "38610dcb-9ba6-4361-e919-a80c67ab0789"
      },
      "outputs": [
        {
          "name": "stdout",
          "output_type": "stream",
          "text": [
            "How old are you? 62\n",
            "Your age is: 62\n"
          ]
        }
      ],
      "source": [
        "age = input (\"How old are you? \")\n",
        "print(\"Your age is:\", age)"
      ]
    },
    {
      "cell_type": "code",
      "execution_count": null,
      "metadata": {
        "colab": {
          "base_uri": "https://localhost:8080/"
        },
        "id": "HSGRL3iUAD-8",
        "outputId": "7cb2e871-30ed-4797-c4f6-d42206e12988"
      },
      "outputs": [
        {
          "name": "stdout",
          "output_type": "stream",
          "text": [
            "The number of spiderman movies is 8\n"
          ]
        }
      ],
      "source": [
        "print(\"The number of spiderman movies is\", 2+3+2+1)"
      ]
    },
    {
      "cell_type": "code",
      "execution_count": null,
      "metadata": {
        "colab": {
          "base_uri": "https://localhost:8080/"
        },
        "id": "UJwIKmGKAh3c",
        "outputId": "a754e2ba-3f66-4c78-a038-cf25128c74d5"
      },
      "outputs": [
        {
          "name": "stdout",
          "output_type": "stream",
          "text": [
            "This is your Piggy bank\n",
            "Please enter the cout of each coin type\n",
            "Quarters: 55\n",
            "Dimes: 44\n",
            "Nickels: 33\n",
            "Pennies: 22\n",
            "20.019999999999996\n",
            "0.02\n",
            "The total value of your change is: 20 dollars and 0.02 cents\n"
          ]
        }
      ],
      "source": [
        "print(\"This is your Piggy bank\")\n",
        "print(\"Please enter the cout of each coin type\")\n",
        "quarters = int(input(\"Quarters: \"))\n",
        "dimes = int(input(\"Dimes: \"))\n",
        "nickels = int(input(\"Nickels: \"))\n",
        "pennies = int(input(\"Pennies: \"))\n",
        "total = quarters * .25 + dimes *.1 + nickels * .05 + pennies * .01\n",
        "print(total)\n",
        "dollars = int(total)\n",
        "cents = round((total - dollars),2) #rounding result to two digits\n",
        "print(cents)\n",
        "print(\"The total value of your change is:\", dollars, \"dollars\", \"and\",  cents, \"cents\",)"
      ]
    },
    {
      "cell_type": "code",
      "execution_count": null,
      "metadata": {
        "colab": {
          "base_uri": "https://localhost:8080/"
        },
        "id": "SkZTfYc6o8Bk",
        "outputId": "018128ed-df04-45d0-9afb-b287e0a7b654"
      },
      "outputs": [
        {
          "name": "stdout",
          "output_type": "stream",
          "text": [
            "g: x = 4\n"
          ]
        }
      ],
      "source": [
        "def g(x):\n",
        "    def h():\n",
        "        x = 'abc'\n",
        "    x = x + 1\n",
        "    print('g: x =', x)\n",
        "    h()\n",
        "    return x\n",
        "\n",
        "x = 3\n",
        "z = g(x)\n"
      ]
    },
    {
      "cell_type": "code",
      "execution_count": null,
      "metadata": {
        "id": "4Wm3C37TJ24q"
      },
      "outputs": [],
      "source": []
    },
    {
      "cell_type": "code",
      "execution_count": null,
      "metadata": {
        "colab": {
          "base_uri": "https://localhost:8080/"
        },
        "id": "3GsayXk0FQ3G",
        "outputId": "3b4036ed-17cc-4192-b32c-619324b7429f"
      },
      "outputs": [
        {
          "name": "stdout",
          "output_type": "stream",
          "text": [
            "Please enter side a:, 4\n",
            "Please enter side b:, 5\n"
          ]
        },
        {
          "data": {
            "text/plain": [
              "6.4031242374328485"
            ]
          },
          "execution_count": 1,
          "metadata": {},
          "output_type": "execute_result"
        }
      ],
      "source": [
        "def pythag():\n",
        "  a = int(input(\"Please enter side a:, \"))\n",
        "  b = int(input(\"Please enter side b:, \"))\n",
        "  c = (a**2 + b ** 2)** .5\n",
        "  return c\n",
        "pythag()"
      ]
    },
    {
      "cell_type": "code",
      "execution_count": null,
      "metadata": {
        "colab": {
          "base_uri": "https://localhost:8080/"
        },
        "id": "AeOkQJ9iiNDy",
        "outputId": "9b12f3b2-8767-4d68-a93f-ae079ed99520"
      },
      "outputs": [
        {
          "name": "stdout",
          "output_type": "stream",
          "text": [
            "25\n"
          ]
        }
      ],
      "source": [
        "a = 2\n",
        "b = 5\n",
        "c = b**a\n",
        "print(c)\n"
      ]
    },
    {
      "cell_type": "code",
      "execution_count": null,
      "metadata": {
        "colab": {
          "base_uri": "https://localhost:8080/"
        },
        "id": "aGZ5hFo-KQ6B",
        "outputId": "dc4ac570-5b24-46d7-fe8c-346424af7bc0"
      },
      "outputs": [
        {
          "data": {
            "text/plain": [
              "25"
            ]
          },
          "execution_count": 2,
          "metadata": {},
          "output_type": "execute_result"
        }
      ],
      "source": [
        "def exmple(a, b):\n",
        "  c = b**a\n",
        "  return(c)\n",
        "exmple(2,5)"
      ]
    },
    {
      "cell_type": "code",
      "execution_count": null,
      "metadata": {
        "id": "U2YILy9ZlHoc"
      },
      "outputs": [],
      "source": []
    },
    {
      "cell_type": "code",
      "execution_count": null,
      "metadata": {
        "colab": {
          "base_uri": "https://localhost:8080/"
        },
        "id": "1PCFVuGyKRUs",
        "outputId": "1769b5dc-3a2a-484e-827c-6e9032352c5f"
      },
      "outputs": [
        {
          "data": {
            "text/plain": [
              "8.6"
            ]
          },
          "execution_count": 10,
          "metadata": {},
          "output_type": "execute_result"
        }
      ],
      "source": [
        "def pythag(a,b):\n",
        "  #a = int(input(\"Please enter side a:, \"))\n",
        "  #b = int(input(\"Please enter side b:, \"))\n",
        "  c = round((a**2 + b ** 2)** .5, 2)\n",
        "  return c\n",
        "pythag(5,7)"
      ]
    },
    {
      "cell_type": "code",
      "execution_count": null,
      "metadata": {
        "colab": {
          "base_uri": "https://localhost:8080/",
          "height": 35
        },
        "id": "1skTQj6N9aJS",
        "outputId": "433d4561-3877-4d8d-b6a9-0316850a4c1b"
      },
      "outputs": [
        {
          "data": {
            "application/vnd.google.colaboratory.intrinsic+json": {
              "type": "string"
            },
            "text/plain": [
              "'rwrw'"
            ]
          },
          "execution_count": 8,
          "metadata": {},
          "output_type": "execute_result"
        }
      ],
      "source": [
        "2 * \"rw\""
      ]
    },
    {
      "cell_type": "code",
      "execution_count": null,
      "metadata": {
        "id": "xDBKbhTteDAP"
      },
      "outputs": [],
      "source": [
        "smm = eval(input(\"The number of spiderman movies Jim watched is,\"))\n",
        "print(smm)\n",
        "type(smm)"
      ]
    },
    {
      "cell_type": "code",
      "execution_count": null,
      "metadata": {
        "id": "SUFAOJeTlJSM"
      },
      "outputs": [],
      "source": [
        "def pythag():\n",
        "  a = int(input(\"Please enter side a: \"))\n",
        "  b = int(input(\"Please enter side b: \"))\n",
        "  c = (a**2 + b**2)**.5\n",
        "  return c"
      ]
    },
    {
      "cell_type": "code",
      "execution_count": null,
      "metadata": {
        "id": "w_SCtq7IUiJi"
      },
      "outputs": [],
      "source": [
        "# Example of a function that accepts multiple inputs\n",
        "# And returns multiple outputs all at once\n",
        "def calculate(a, b, c):\n",
        "    sum_result = a + b + c\n",
        "    product_result = a * b * c\n",
        "    average_result = (a + b + c) / 3\n",
        "    max_result = max(a, b, c)\n",
        "    min_result = min(a, b, c)\n",
        "    return sum_result, product_result, average_result, max_result, min_result\n",
        "\n",
        "# Example usage:\n",
        "result = calculate(10, 20, 30)\n",
        "print(\"Sum:\", result[0])\n",
        "print(\"Product:\", result[1])\n",
        "print(\"Average:\", result[2])\n",
        "print(\"Maximum:\", result[3])\n",
        "print(\"Minimum:\", result[4])\n",
        "\n",
        "# Or you can unpack the results directly:\n",
        "sum_result, product_result, average_result, max_result, min_result = calculate(10, 20, 30)\n",
        "print(\"Sum:\", sum_result)\n",
        "print(\"Product:\", product_result)\n",
        "print(\"Average:\", average_result)\n",
        "print(\"Maximum:\", max_result)\n",
        "print(\"Minimum:\", min_result)\n"
      ]
    }
  ],
  "metadata": {
    "colab": {
      "provenance": []
    },
    "kernelspec": {
      "display_name": "Python 3",
      "name": "python3"
    },
    "language_info": {
      "name": "python"
    }
  },
  "nbformat": 4,
  "nbformat_minor": 0
}
