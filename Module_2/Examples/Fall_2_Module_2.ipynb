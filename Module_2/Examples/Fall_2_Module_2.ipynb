{
  "nbformat": 4,
  "nbformat_minor": 0,
  "metadata": {
    "colab": {
      "provenance": []
    },
    "kernelspec": {
      "name": "python3",
      "display_name": "Python 3"
    },
    "language_info": {
      "name": "python"
    }
  },
  "cells": [
    {
      "cell_type": "code",
      "execution_count": 5,
      "metadata": {
        "colab": {
          "base_uri": "https://localhost:8080/"
        },
        "id": "qtbBNEn742aS",
        "outputId": "d7e0a1d3-23d5-4c7e-a867-be45a6a7d926"
      },
      "outputs": [
        {
          "output_type": "stream",
          "name": "stdout",
          "text": [
            "Select rock, paper, or scissors:ROCK\n",
            "<built-in method lower of str object at 0x7b97e094d8b0>\n"
          ]
        }
      ],
      "source": [
        "import random\n",
        "choice = input(\"Select rock, paper, or scissors:\").lower\n",
        "print(choice)"
      ]
    },
    {
      "cell_type": "code",
      "source": [
        "\n",
        "import random\n",
        "your_choice = input(\"Select rock, paper, or scissors:\").lower()\n",
        "\n",
        "computer_select = [\"rock\", \"paper\", \"scissors\"]\n",
        "computer_play = random.choice(computer_select)\n",
        "#print(computer_play)\n",
        "\n",
        "if computer_play == your_choice:\n",
        "  print(\"It's a tie!\")\n",
        "elif your_choice == \"rock\" and computer_play == \"scissors\":\n",
        "    print(\"You win! Rock beats scissors!\")\n",
        "elif your_choice == \"paper\" and computer_play == \"rock\":\n",
        "    print(\"You win! Paper beats rock!\")\n",
        "elif your_choice == \"scissors\" and computer_play == \"paper\":\n",
        "    print (\"You win! Scissors beats paper!\")\n",
        "else:\n",
        "    print(\"Sorry you are such a loser! The computer picked\", computer_play)\n",
        "\n"
      ],
      "metadata": {
        "colab": {
          "base_uri": "https://localhost:8080/"
        },
        "id": "SISnRdD15ovr",
        "outputId": "6c5a2b79-de39-47f8-c389-e81e17965a51"
      },
      "execution_count": 2,
      "outputs": [
        {
          "output_type": "stream",
          "name": "stdout",
          "text": [
            "Select rock, paper, or scissors:scissors\n",
            "Sorry you are such a loser! The computer picked rock\n"
          ]
        }
      ]
    },
    {
      "cell_type": "code",
      "source": [
        "import random\n",
        "\n",
        "def get_user_choice():\n",
        "    \"\"\"Get the user's choice and validate it.\"\"\"\n",
        "    choices = ['rock', 'paper', 'scissors']\n",
        "    user_choice = input(\"Enter your choice (rock, paper, scissors): \").lower()\n",
        "    while user_choice not in choices:\n",
        "        print(\"Invalid choice! Please choose rock, paper, or scissors.\")\n",
        "        user_choice = input(\"Enter your choice (rock, paper, scissors): \").lower()\n",
        "    return user_choice\n",
        "\n",
        "def get_computer_choice():\n",
        "    \"\"\"Get the computer's choice.\"\"\"\n",
        "    choices = ['rock', 'paper', 'scissors']\n",
        "    return random.choice(choices)\n",
        "\n",
        "def determine_winner(user_choice, computer_choice):\n",
        "    \"\"\"Determine the winner of the game.\"\"\"\n",
        "    if user_choice == computer_choice:\n",
        "        return \"It's a tie!\"\n",
        "    elif (\n",
        "        (user_choice == 'rock' and computer_choice == 'scissors') or\n",
        "        (user_choice == 'paper' and computer_choice == 'rock') or\n",
        "        (user_choice == 'scissors' and computer_choice == 'paper')\n",
        "    ):\n",
        "        return \"You win!\"\n",
        "    else:\n",
        "        return \"Computer wins!\"\n",
        "\n",
        "def play():\n",
        "    \"\"\"Play the game.\"\"\"\n",
        "    user_choice = get_user_choice()\n",
        "    computer_choice = get_computer_choice()\n",
        "    print(f\"\\nYou chose: {user_choice}\")\n",
        "    print(f\"Computer chose: {computer_choice}\")\n",
        "    result = determine_winner(user_choice, computer_choice)\n",
        "    print(result)\n",
        "\n",
        "if __name__ == \"__main__\":\n",
        "    play()\n"
      ],
      "metadata": {
        "id": "TVYPpY3G6dRl"
      },
      "execution_count": null,
      "outputs": []
    },
    {
      "cell_type": "code",
      "source": [
        "import random\n",
        "\n",
        "def play_game():\n",
        "    while True:\n",
        "        your_choice = input(\"Select rock, paper, or scissors: \").lower()\n",
        "        if your_choice in [\"rock\", \"paper\", \"scissors\"]:\n",
        "            break\n",
        "        else:\n",
        "            print(\"Invalid input. Please enter 'rock', 'paper', or 'scissors'.\")\n",
        "\n",
        "    computer_select = [\"rock\", \"paper\", \"scissors\"]\n",
        "    computer_play = random.choice(computer_select)\n",
        "    print(\"Computer selected:\", computer_play)\n",
        "\n",
        "    if computer_play == your_choice:\n",
        "        print(\"It's a tie!\")\n",
        "    elif (your_choice == \"rock\" and computer_play == \"scissors\") or \\\n",
        "         (your_choice == \"paper\" and computer_play == \"rock\") or \\\n",
        "         (your_choice == \"scissors\" and computer_play == \"paper\"):\n",
        "        print(\"You win! {} beats {}!\".format(your_choice, computer_play))\n",
        "    else:\n",
        "        print(\"Sorry, you lose! {} beats {}.\".format(computer_play, your_choice))\n",
        "\n",
        "while True:\n",
        "    play_game()\n",
        "    play_again = input(\"Do you want to play again? (yes/no): \").lower()\n",
        "    if play_again != \"yes\":\n",
        "        break\n"
      ],
      "metadata": {
        "id": "v4AaOVsVYDta"
      },
      "execution_count": null,
      "outputs": []
    },
    {
      "cell_type": "code",
      "source": [
        "mysum = 0\n",
        "for i in range(5,11,2):\n",
        "  if mysum == 5:\n",
        "      break\n",
        "      mysum += 1\n",
        "  print(mysum)"
      ],
      "metadata": {
        "colab": {
          "base_uri": "https://localhost:8080/"
        },
        "id": "7YER3exwYrpm",
        "outputId": "ed811ff4-57da-4f4e-a1b2-f1f6d2cac6ba"
      },
      "execution_count": 5,
      "outputs": [
        {
          "output_type": "stream",
          "name": "stdout",
          "text": [
            "0\n",
            "0\n",
            "0\n"
          ]
        }
      ]
    },
    {
      "cell_type": "code",
      "source": [
        "rows = 3\n",
        "columns = 4\n",
        "for i in range(rows):\n",
        "  print(i)\n",
        "  for j in range(columns):\n",
        "      print(\"*\", end = \"\")\n",
        "  print()"
      ],
      "metadata": {
        "colab": {
          "base_uri": "https://localhost:8080/"
        },
        "id": "7P5wjbCkELxr",
        "outputId": "e48db9ad-1d0d-4659-db62-488c041a5095"
      },
      "execution_count": 6,
      "outputs": [
        {
          "output_type": "stream",
          "name": "stdout",
          "text": [
            "0\n",
            "****\n",
            "1\n",
            "****\n",
            "2\n",
            "****\n"
          ]
        }
      ]
    },
    {
      "cell_type": "code",
      "source": [],
      "metadata": {
        "id": "axFPhOASEfls"
      },
      "execution_count": null,
      "outputs": []
    },
    {
      "cell_type": "code",
      "execution_count": null,
      "metadata": {
        "colab": {
          "base_uri": "https://localhost:8080/"
        },
        "id": "kON41VXrCQET",
        "outputId": "c2a30483-240f-4476-9a76-aa849676b5b4"
      },
      "outputs": [
        {
          "output_type": "stream",
          "name": "stdout",
          "text": [
            "Enter the first number (a): 5\n",
            "Enter the second number (b): 4\n",
            "Enter the third number (c): 7\n",
            "The largest is 7\n"
          ]
        }
      ],
      "source": [
        "a = int(input(\"Enter the first number (a): \"))\n",
        "b = int(input(\"Enter the second number (b): \"))\n",
        "c = int (input(\"Enter the third number (c): \"))\n",
        "if (a > b):\n",
        "  if (a > c):\n",
        "    print(\"The largest is\", a)\n",
        "  else: print(\"The largest is\", c)\n",
        "else:\n",
        "    if (b > c):\n",
        "      print(\"The largest is\", b)\n",
        "    else:\n",
        "      print(\"The largest is\", c)"
      ]
    },
    {
      "cell_type": "code",
      "source": [],
      "metadata": {
        "id": "FjWWOQSZL4bm"
      },
      "execution_count": null,
      "outputs": []
    },
    {
      "cell_type": "code",
      "source": [
        "count = 0\n",
        "\n",
        "while count < 5:\n",
        "    print(f\"Count is {count}\")\n",
        "    count += 1\n",
        "else:\n",
        "    print(\"Loop is complete.\")\n",
        "\n",
        "print(\"Outside the loop.\")\n"
      ],
      "metadata": {
        "id": "MDtPH8Lzz9ye"
      },
      "execution_count": null,
      "outputs": []
    },
    {
      "cell_type": "code",
      "source": [],
      "metadata": {
        "id": "CtRZYK4xMAgL"
      },
      "execution_count": null,
      "outputs": []
    },
    {
      "cell_type": "code",
      "source": [
        "# Using a for loop to iterate through a list\n",
        "fruits = ['apple', 'banana', 'cherry', 'date']\n",
        "\n",
        "for fruit in fruits:\n",
        "    print(f\"I have a {fruit}.\")\n",
        "    if fruit == 'banana':\n",
        "        print(\"It's my favorite!\")\n",
        "    else:\n",
        "        print(\"I like it, but it's not my favorite.\")\n",
        "\n",
        "# Using a while loop to count from 1 to 5\n",
        "count = 1\n",
        "\n",
        "while count <= 5:\n",
        "    print(f\"Count: {count}\")\n",
        "    count += 1\n",
        "\n",
        "# Using an if-else statement within a for loop\n",
        "numbers = [1, 2, 3, 4, 5, 6, 7, 8, 9, 10]\n",
        "\n",
        "for num in numbers:\n",
        "    if num % 2 == 0:\n",
        "        print(f\"{num} is even.\")\n",
        "    else:\n",
        "        print(f\"{num} is odd.\")\n",
        "\n",
        "# Using a for loop with a conditional break\n",
        "for num in numbers:\n",
        "    print(f\"Checking {num}...\")\n",
        "    if num == 7:\n",
        "        print(\"Found 7! Breaking the loop.\")\n",
        "        break\n",
        "else:\n",
        "    print(\"Loop completed without finding 7.\")\n",
        "\n",
        "# Using a for loop with a conditional continue\n",
        "for num in numbers:\n",
        "    if num % 3 == 0:\n",
        "        print(f\"{num} is divisible by 3. Skipping it.\")\n",
        "        continue\n",
        "    print(f\"{num} is not divisible by 3.\")\n",
        "\n",
        "print(\"Done!\")\n"
      ],
      "metadata": {
        "id": "H6rX3I2L0OE2"
      },
      "execution_count": null,
      "outputs": []
    },
    {
      "cell_type": "code",
      "source": [],
      "metadata": {
        "id": "LkoTN3r3MHvi"
      },
      "execution_count": null,
      "outputs": []
    },
    {
      "cell_type": "code",
      "source": [
        "lamp = input(\"Is the lamp on (yes/no): \")\n",
        "plugged = input(\"Is the lamp plugged in (yes/no): \")\n",
        "burnt = input(\"Is the bulb burnt out (yes/no): \")\n",
        "if lamp != 'yes':\n",
        "    if plugged == 'yes':\n",
        "        if burnt == 'yes':\n",
        "             print('replace bulb')\n",
        "        else:\n",
        "             print('replace lamp')\n",
        "    else:\n",
        "             print('plug in lamp')\n",
        "else: print('Enjoy the light')\n"
      ],
      "metadata": {
        "colab": {
          "base_uri": "https://localhost:8080/"
        },
        "id": "HF0liXk3YPoi",
        "outputId": "698dca3d-1a7e-4155-be41-1d09c35533e0"
      },
      "execution_count": null,
      "outputs": [
        {
          "output_type": "stream",
          "name": "stdout",
          "text": [
            "Is the lamp on (yes/no): no\n",
            "Is the lamp plugged in (yes/no): yes\n",
            "Is the bulb burnt out (yes/no): no\n",
            "replace lamp\n"
          ]
        }
      ]
    },
    {
      "cell_type": "code",
      "source": [],
      "metadata": {
        "id": "JRUBkXQbMRD3"
      },
      "execution_count": null,
      "outputs": []
    },
    {
      "cell_type": "code",
      "source": [
        "import random\n",
        "\n",
        "target_number = random.randint(1, 10)\n",
        "guess = 0\n",
        "\n",
        "while guess != target_number:\n",
        "    guess = int(input(\"Guess the number between 1 and 10: \"))\n",
        "\n",
        "print(\"Congratulations! You guessed the correct number.\")\n"
      ],
      "metadata": {
        "colab": {
          "base_uri": "https://localhost:8080/"
        },
        "id": "WOP-gimj9OtR",
        "outputId": "6b850629-7b6d-4345-857a-3526a4290cd3"
      },
      "execution_count": null,
      "outputs": [
        {
          "output_type": "stream",
          "name": "stdout",
          "text": [
            "Guess the number between 1 and 10: 6\n",
            "Congratulations! You guessed the correct number.\n"
          ]
        }
      ]
    }
  ]
}