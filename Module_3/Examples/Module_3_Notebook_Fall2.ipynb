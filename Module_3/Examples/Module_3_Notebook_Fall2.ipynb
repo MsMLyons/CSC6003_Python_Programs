{
  "nbformat": 4,
  "nbformat_minor": 0,
  "metadata": {
    "colab": {
      "provenance": []
    },
    "kernelspec": {
      "name": "python3",
      "display_name": "Python 3"
    },
    "language_info": {
      "name": "python"
    }
  },
  "cells": [
    {
      "cell_type": "code",
      "execution_count": null,
      "metadata": {
        "colab": {
          "base_uri": "https://localhost:8080/"
        },
        "id": "Ok9SqZPwNHE5",
        "outputId": "c12ee712-5c10-4c20-8a45-4476225b189a"
      },
      "outputs": [
        {
          "output_type": "stream",
          "name": "stdout",
          "text": [
            "My name is John and I am 25 years old.\n"
          ]
        }
      ],
      "source": [
        "name = \"John\"\n",
        "age = 25\n",
        "message = \"My name is %s and I am %d years old.\" % (name, age)\n",
        "print(message)\n"
      ]
    },
    {
      "cell_type": "code",
      "source": [
        "name = \"John\"\n",
        "age = 25\n",
        "message = \"My name is {} and I am {} years old.\".format(name, age)\n",
        "print(message)\n"
      ],
      "metadata": {
        "colab": {
          "base_uri": "https://localhost:8080/"
        },
        "id": "EfhBCtPUN44T",
        "outputId": "bd5b8c5a-ba8e-4fe1-a19f-2f1a37367017"
      },
      "execution_count": null,
      "outputs": [
        {
          "output_type": "stream",
          "name": "stdout",
          "text": [
            "My name is John and I am 25 years old.\n"
          ]
        }
      ]
    },
    {
      "cell_type": "code",
      "source": [
        "pi = 3.14159\n",
        "formatted_pi = \"The value of pi is approximately {:.2f}\".format(pi)\n",
        "print(formatted_pi)\n"
      ],
      "metadata": {
        "colab": {
          "base_uri": "https://localhost:8080/"
        },
        "id": "JjQzdgqLOtmW",
        "outputId": "f8b76fee-5c5f-4293-8468-40d9e098a050"
      },
      "execution_count": null,
      "outputs": [
        {
          "output_type": "stream",
          "name": "stdout",
          "text": [
            "The value of pi is approximately 3.14\n"
          ]
        }
      ]
    },
    {
      "cell_type": "code",
      "source": [
        "name = \"Alice\"\n",
        "greeting = \"Hello, \" + name + \"!\"\n",
        "print(greeting)\n"
      ],
      "metadata": {
        "colab": {
          "base_uri": "https://localhost:8080/"
        },
        "id": "rlAPVUDNQAxp",
        "outputId": "725c10d2-c3c1-440f-fdb9-47156df02f16"
      },
      "execution_count": null,
      "outputs": [
        {
          "output_type": "stream",
          "name": "stdout",
          "text": [
            "Hello, Alice!\n"
          ]
        }
      ]
    },
    {
      "cell_type": "code",
      "source": [
        "message = \"Hello, World!\"\n",
        "print(message.upper())  # Convert the string to uppercase\n",
        "print(message.lower())  # Convert the string to lowercase\n"
      ],
      "metadata": {
        "colab": {
          "base_uri": "https://localhost:8080/"
        },
        "id": "lKpyKta8QU7w",
        "outputId": "b95544ab-70c1-4e8a-fc69-598a12e7f283"
      },
      "execution_count": null,
      "outputs": [
        {
          "output_type": "stream",
          "name": "stdout",
          "text": [
            "HELLO, WORLD!\n",
            "hello, world!\n"
          ]
        }
      ]
    },
    {
      "cell_type": "code",
      "source": [
        "sentence = \"This is a sentence.\"\n",
        "words = sentence.split()  # Split the sentence into a list of words\n",
        "new_sentence = \"-\".join(words)  # Join the words with a hyphen\n",
        "print(new_sentence)\n"
      ],
      "metadata": {
        "colab": {
          "base_uri": "https://localhost:8080/"
        },
        "id": "JOUA_8pkQmlL",
        "outputId": "8b794250-bf34-46f5-bc80-e9171d872e5f"
      },
      "execution_count": null,
      "outputs": [
        {
          "output_type": "stream",
          "name": "stdout",
          "text": [
            "This-is-a-sentence.\n"
          ]
        }
      ]
    },
    {
      "cell_type": "code",
      "source": [
        "sentence = input(\"Enter a sentence: \")\n",
        "word = input(\"Enter a word: \")\n",
        "\n",
        "count = sentence.lower().count(word.lower())\n",
        "\n",
        "print(\"Occurrences of '{}' in the sentence: {}\".format(word, count))\n"
      ],
      "metadata": {
        "colab": {
          "base_uri": "https://localhost:8080/"
        },
        "id": "wn9xkWCaJGBh",
        "outputId": "15896946-4fba-4b27-a7bb-489a49420fa3"
      },
      "execution_count": null,
      "outputs": [
        {
          "output_type": "stream",
          "name": "stdout",
          "text": [
            "Enter a sentence: Today is fine.\n",
            "Enter a word: is\n",
            "Occurrences of 'is' in the sentence: 1\n"
          ]
        }
      ]
    },
    {
      "cell_type": "code",
      "source": [
        "for i in range(5):\n",
        "    print(i)\n"
      ],
      "metadata": {
        "colab": {
          "base_uri": "https://localhost:8080/"
        },
        "id": "4ZQ1-EWhKwWD",
        "outputId": "d62900ff-4c51-4812-e4f7-bee8a6db435b"
      },
      "execution_count": null,
      "outputs": [
        {
          "output_type": "stream",
          "name": "stdout",
          "text": [
            "0\n",
            "1\n",
            "2\n",
            "3\n",
            "4\n"
          ]
        }
      ]
    },
    {
      "cell_type": "code",
      "source": [
        "result = True or False and False\n",
        "print(result)\n"
      ],
      "metadata": {
        "colab": {
          "base_uri": "https://localhost:8080/"
        },
        "id": "2EFBsP7jMbGF",
        "outputId": "af3e9e42-2d9a-4fd9-8f9a-2f662fbcd1f4"
      },
      "execution_count": null,
      "outputs": [
        {
          "output_type": "stream",
          "name": "stdout",
          "text": [
            "True\n"
          ]
        }
      ]
    },
    {
      "cell_type": "code",
      "source": [
        "text = \"Hello World!\"\n",
        "print(text[-1])"
      ],
      "metadata": {
        "colab": {
          "base_uri": "https://localhost:8080/"
        },
        "id": "hJOcntAk51G3",
        "outputId": "d0f4ec7c-a1b9-4cd5-ade7-9a24b777fa1b"
      },
      "execution_count": null,
      "outputs": [
        {
          "output_type": "stream",
          "name": "stdout",
          "text": [
            "!\n"
          ]
        }
      ]
    },
    {
      "cell_type": "code",
      "source": [
        "name = \"Alice\"\n",
        "age = 25\n",
        "\n",
        "# Using % operator for string formatting\n",
        "greeting = \"Hello, my name is %s and I am %d years old.\" % (name, age)\n",
        "print(greeting)\n"
      ],
      "metadata": {
        "colab": {
          "base_uri": "https://localhost:8080/"
        },
        "id": "mfHzStpc6dMg",
        "outputId": "2c9033c0-5b63-44c6-95cd-89cc4d1ea8b1"
      },
      "execution_count": null,
      "outputs": [
        {
          "output_type": "stream",
          "name": "stdout",
          "text": [
            "Hello, my name is Alice and I am 25 years old.\n"
          ]
        }
      ]
    },
    {
      "cell_type": "code",
      "source": [
        "name = \"Alice\"\n",
        "age = 25\n",
        "#Using format() method for string formatting\n",
        "greeting = \"Hello, my name is {} and I am {} years old.\".format(name,age)\n",
        "print(greeting)"
      ],
      "metadata": {
        "colab": {
          "base_uri": "https://localhost:8080/"
        },
        "id": "9UMzIDJx6uSX",
        "outputId": "69e9d0ac-1216-441a-dda1-61c67e4d8940"
      },
      "execution_count": null,
      "outputs": [
        {
          "output_type": "stream",
          "name": "stdout",
          "text": [
            "Hello, my name is Alice and I am 25 years old.\n"
          ]
        }
      ]
    },
    {
      "cell_type": "code",
      "source": [
        "count = 0\n",
        "while count < 5:\n",
        "    count += 2\n",
        "\n"
      ],
      "metadata": {
        "colab": {
          "base_uri": "https://localhost:8080/"
        },
        "id": "V5hUF_3eLkiH",
        "outputId": "d80caa6e-e0a4-47a6-ebfd-7a7e120e9db3"
      },
      "execution_count": null,
      "outputs": [
        {
          "output_type": "stream",
          "name": "stdout",
          "text": [
            "2\n",
            "4\n",
            "6\n"
          ]
        }
      ]
    },
    {
      "cell_type": "code",
      "source": [
        "x = 10\n",
        "y = 5\n",
        "print(x > y and x < 15)\n"
      ],
      "metadata": {
        "colab": {
          "base_uri": "https://localhost:8080/"
        },
        "id": "YAXKt-rl8be1",
        "outputId": "d837b3ea-1973-4933-a8c8-58375c5ffc3e"
      },
      "execution_count": null,
      "outputs": [
        {
          "output_type": "stream",
          "name": "stdout",
          "text": [
            "True\n"
          ]
        }
      ]
    },
    {
      "cell_type": "code",
      "source": [
        "result = not True or False\n",
        "print(result)\n"
      ],
      "metadata": {
        "colab": {
          "base_uri": "https://localhost:8080/"
        },
        "id": "QGjWdafh9t6h",
        "outputId": "18a9cc51-d07c-4909-a1e8-aed73606cdad"
      },
      "execution_count": null,
      "outputs": [
        {
          "output_type": "stream",
          "name": "stdout",
          "text": [
            "False\n"
          ]
        }
      ]
    },
    {
      "cell_type": "code",
      "source": [
        "# Creating an empty list\n",
        "my_list = []\n",
        "\n",
        "# Creating a list with initial elements\n",
        "fruits = [\"apple\", \"banana\", \"orange\"]\n"
      ],
      "metadata": {
        "id": "9h2hD85bCJrv"
      },
      "execution_count": null,
      "outputs": []
    },
    {
      "cell_type": "code",
      "source": [
        "fruits = [\"apple\", \"banana\", \"orange\"]\n",
        "\n",
        "# Accessing individual elements\n",
        "print(fruits[0])  # Output: \"apple\"\n",
        "print(fruits[1])  # Output: \"banana\"\n",
        "print(fruits[2])  # Output: \"orange\"\n"
      ],
      "metadata": {
        "colab": {
          "base_uri": "https://localhost:8080/"
        },
        "id": "eDOUP6UkCYtS",
        "outputId": "e93c1b16-e9bc-4374-9d4a-c156b7ed9d77"
      },
      "execution_count": null,
      "outputs": [
        {
          "output_type": "stream",
          "name": "stdout",
          "text": [
            "apple\n",
            "banana\n",
            "orange\n"
          ]
        }
      ]
    },
    {
      "cell_type": "code",
      "source": [
        "fruits = [\"apple\", \"banana\", \"orange\"]\n",
        "\n",
        "# Modifying an element\n",
        "fruits[1] = \"grape\"\n",
        "print(fruits)  # Output: [\"apple\", \"grape\", \"orange\"]\n",
        "\n",
        "# Adding elements to the end\n",
        "fruits.append(\"kiwi\")\n",
        "print(fruits)  # Output: [\"apple\", \"grape\", \"orange\", \"kiwi\"]\n"
      ],
      "metadata": {
        "colab": {
          "base_uri": "https://localhost:8080/"
        },
        "id": "0whjqY2tClvc",
        "outputId": "d0a7704d-93ba-49fa-d76e-b68278f7f7c4"
      },
      "execution_count": null,
      "outputs": [
        {
          "output_type": "stream",
          "name": "stdout",
          "text": [
            "['apple', 'grape', 'orange']\n",
            "['apple', 'grape', 'orange', 'kiwi']\n"
          ]
        }
      ]
    },
    {
      "cell_type": "code",
      "source": [
        "fruits = [\"apple\", \"banana\", \"orange\"]\n",
        "\n",
        "# Length of the list\n",
        "print(len(fruits))  # Output: 3\n",
        "\n",
        "# Removing an element\n",
        "fruits.remove(\"banana\")\n",
        "print(fruits)  # Output: [\"apple\", \"orange\"]\n",
        "\n",
        "# Sorting the list\n",
        "fruits.sort()\n",
        "print(fruits)  # Output: [\"apple\", \"orange\"]\n"
      ],
      "metadata": {
        "colab": {
          "base_uri": "https://localhost:8080/"
        },
        "id": "nBnGAlPDDHMI",
        "outputId": "8e89eb07-17be-4553-ade7-e0f0e7a2ae0d"
      },
      "execution_count": null,
      "outputs": [
        {
          "output_type": "stream",
          "name": "stdout",
          "text": [
            "3\n",
            "['apple', 'orange']\n",
            "['apple', 'orange']\n"
          ]
        }
      ]
    },
    {
      "cell_type": "code",
      "source": [
        "fruits = [\"apple\", \"banana\", \"orange\", \"kiwi\", \"grape\"]\n",
        "\n",
        "# Slicing a list\n",
        "print(fruits[1:4])  # Output: [\"banana\", \"orange\", \"kiwi\"]\n",
        "\n",
        "# Slicing with a step\n",
        "print(fruits[::2])  # Output: [\"apple\", \"orange\", \"grape\"]\n"
      ],
      "metadata": {
        "colab": {
          "base_uri": "https://localhost:8080/"
        },
        "id": "yfpnNQbSDZPT",
        "outputId": "ab51eb8c-fa90-4d27-ea88-744f9c0e3af3"
      },
      "execution_count": null,
      "outputs": [
        {
          "output_type": "stream",
          "name": "stdout",
          "text": [
            "['banana', 'orange', 'kiwi']\n",
            "['apple', 'orange', 'grape']\n"
          ]
        }
      ]
    },
    {
      "cell_type": "code",
      "source": [
        "fruits = [\"apple\", \"banana\"]\n",
        "vegetables = [\"carrot\", \"spinach\"]\n",
        "\n",
        "# Concatenating lists\n",
        "combined = fruits + vegetables\n",
        "print(combined)  # Output: [\"apple\", \"banana\", \"carrot\", \"spinach\"]\n",
        "\n",
        "# Repeating a list\n",
        "repeated = fruits * 3\n",
        "print(repeated)  # Output: [\"apple\", \"banana\", \"apple\", \"banana\", \"apple\", \"banana\"]\n"
      ],
      "metadata": {
        "colab": {
          "base_uri": "https://localhost:8080/"
        },
        "id": "sHnCq_33DzXf",
        "outputId": "8d4d74c8-dd20-4ee0-ee2b-1a95ef7d54a4"
      },
      "execution_count": null,
      "outputs": [
        {
          "output_type": "stream",
          "name": "stdout",
          "text": [
            "['apple', 'banana', 'carrot', 'spinach']\n",
            "['apple', 'banana', 'apple', 'banana', 'apple', 'banana']\n"
          ]
        }
      ]
    },
    {
      "cell_type": "code",
      "source": [
        "fruits = [\"apple\", \"banana\", \"orange\"]\n",
        "\n",
        "# Iterating over a list\n",
        "for fruit in fruits:\n",
        "    print(fruit)\n",
        "\n",
        "# Output:\n",
        "# \"apple\"\n",
        "# \"banana\"\n",
        "# \"orange\"\n"
      ],
      "metadata": {
        "colab": {
          "base_uri": "https://localhost:8080/"
        },
        "id": "goDORyW6EE_K",
        "outputId": "a978560c-55cc-4349-c5ca-2e2b3d54427e"
      },
      "execution_count": null,
      "outputs": [
        {
          "output_type": "stream",
          "name": "stdout",
          "text": [
            "apple\n",
            "banana\n",
            "orange\n"
          ]
        }
      ]
    },
    {
      "cell_type": "code",
      "source": [
        "fruits = [\"apple\", \"banana\", \"orange\"]\n",
        "\n",
        "# Checking if an element exists in the list\n",
        "print(\"banana\" in fruits)  # Output: True\n",
        "print(\"kiwi\" in fruits)  # Output: False\n"
      ],
      "metadata": {
        "colab": {
          "base_uri": "https://localhost:8080/"
        },
        "id": "zm7YcBsDEQ1n",
        "outputId": "3cc376ae-7da6-4d3f-efb5-974447735e4e"
      },
      "execution_count": null,
      "outputs": [
        {
          "output_type": "stream",
          "name": "stdout",
          "text": [
            "True\n",
            "False\n"
          ]
        }
      ]
    },
    {
      "cell_type": "code",
      "source": [
        "string = input(\"Enter a string: \")\n",
        "reversed_string = string[::-1]\n",
        "print(\"Reversed string:\", reversed_string)\n"
      ],
      "metadata": {
        "colab": {
          "base_uri": "https://localhost:8080/"
        },
        "id": "6O9TtvLtF8T1",
        "outputId": "cc94dcb4-ff9d-4814-e674-1e73e7e3a550"
      },
      "execution_count": null,
      "outputs": [
        {
          "output_type": "stream",
          "name": "stdout",
          "text": [
            "Enter a string: testing one, two, three\n",
            "Reversed string: eerht ,owt ,eno gnitset\n"
          ]
        }
      ]
    },
    {
      "cell_type": "code",
      "source": [
        "string = input(\"Enter a string: \")\n",
        "count = 0\n",
        "for char in string:\n",
        "    if char.lower() in \"aeiou\":\n",
        "        count += 1\n",
        "print(\"Number of vowels:\", count)\n"
      ],
      "metadata": {
        "colab": {
          "base_uri": "https://localhost:8080/"
        },
        "id": "ENarrpQjGZy9",
        "outputId": "3207c4c0-01be-408d-a879-ec699755d7b3"
      },
      "execution_count": null,
      "outputs": [
        {
          "output_type": "stream",
          "name": "stdout",
          "text": [
            "Enter a string: omaha\n",
            "Number of vowels: 3\n"
          ]
        }
      ]
    },
    {
      "cell_type": "code",
      "source": [
        "string = input(\"Enter a string: \")\n",
        "result = \"\"\n",
        "for char in string:\n",
        "    if char not in result:\n",
        "        result += char\n",
        "print(\"String with duplicates removed:\", result)\n"
      ],
      "metadata": {
        "colab": {
          "base_uri": "https://localhost:8080/"
        },
        "id": "_m5F9no7HJGn",
        "outputId": "e610546c-8bea-4ce2-b125-df11c538100d"
      },
      "execution_count": null,
      "outputs": [
        {
          "output_type": "stream",
          "name": "stdout",
          "text": [
            "Enter a string: testing\n",
            "String with duplicates removed: tesing\n"
          ]
        }
      ]
    },
    {
      "cell_type": "code",
      "source": [
        "numbers = input(\"Enter a list of numbers (space-separated): \").split()\n",
        "reversed_list = numbers[::-1]\n",
        "print(\"Reversed list:\", reversed_list)\n"
      ],
      "metadata": {
        "colab": {
          "base_uri": "https://localhost:8080/"
        },
        "id": "pjsdrOTIIOw9",
        "outputId": "8db504c3-3e4c-4490-9323-0614b914c8f8"
      },
      "execution_count": null,
      "outputs": [
        {
          "output_type": "stream",
          "name": "stdout",
          "text": [
            "Enter a list of numbers (space-separated): 1 2 5 7 8 \n",
            "Reversed list: ['8', '7', '5', '2', '1']\n"
          ]
        }
      ]
    },
    {
      "cell_type": "code",
      "source": [
        "numbers = input(\"Enter a list of numbers (space-separated): \").split()\n",
        "count = 0\n",
        "for num in numbers:\n",
        "    if int(num) % 2 == 0:\n",
        "        count += 1\n",
        "print(\"Number of even numbers:\", count)\n"
      ],
      "metadata": {
        "colab": {
          "base_uri": "https://localhost:8080/"
        },
        "id": "MUMKlRWGIv7U",
        "outputId": "1aa449b8-929b-48a9-a4bf-d1d60f1626c0"
      },
      "execution_count": null,
      "outputs": [
        {
          "output_type": "stream",
          "name": "stdout",
          "text": [
            "Enter a list of numbers (space-separated): 1 2 3 4 5 \n",
            "Number of even numbers: 2\n"
          ]
        }
      ]
    },
    {
      "cell_type": "code",
      "source": [
        "strings = input(\"Enter a list of strings (space-separated): \").split()\n",
        "result = []\n",
        "for string in strings:\n",
        "    if string not in result:\n",
        "        result.append(string)\n",
        "print(\"List with duplicates removed:\", result)\n"
      ],
      "metadata": {
        "colab": {
          "base_uri": "https://localhost:8080/"
        },
        "id": "q8KFuCYFJesv",
        "outputId": "a604b88c-d833-4f93-8583-65896fe8d449"
      },
      "execution_count": null,
      "outputs": [
        {
          "output_type": "stream",
          "name": "stdout",
          "text": [
            "Enter a list of strings (space-separated): able was I ere I saw elba\n",
            "List with duplicates removed: ['able', 'was', 'I', 'ere', 'saw', 'elba']\n"
          ]
        }
      ]
    },
    {
      "cell_type": "code",
      "source": [
        "import array\n",
        "\n",
        "# Creating an array of integers\n",
        "numbers = array.array('i', [1, 2, 3, 4, 5])\n",
        "\n",
        "# Creating an array of floating-point numbers\n",
        "grades = array.array('f', [85.5, 90.0, 92.5, 88.75])\n",
        "print(numbers)\n",
        "print(grades)\n"
      ],
      "metadata": {
        "colab": {
          "base_uri": "https://localhost:8080/"
        },
        "id": "lPCmblY-KSpc",
        "outputId": "a5055b96-e5e2-4e51-da81-319b8c018713"
      },
      "execution_count": null,
      "outputs": [
        {
          "output_type": "stream",
          "name": "stdout",
          "text": [
            "array('i', [1, 2, 3, 4, 5])\n",
            "array('f', [85.5, 90.0, 92.5, 88.75])\n"
          ]
        }
      ]
    },
    {
      "cell_type": "code",
      "source": [
        "import array\n",
        "\n",
        "numbers = array.array('i', [1, 2, 3, 4, 5])\n",
        "\n",
        "# Accessing individual elements\n",
        "print(numbers[0])  # Output: 1\n",
        "print(numbers[2])  # Output: 3\n"
      ],
      "metadata": {
        "colab": {
          "base_uri": "https://localhost:8080/"
        },
        "id": "2Rp4dSyrK078",
        "outputId": "cfe6f4c3-f910-4b3f-bcab-1037f48aed2c"
      },
      "execution_count": null,
      "outputs": [
        {
          "output_type": "stream",
          "name": "stdout",
          "text": [
            "1\n",
            "3\n"
          ]
        }
      ]
    },
    {
      "cell_type": "code",
      "source": [
        "import array\n",
        "\n",
        "numbers = array.array('i', [1, 2, 3, 4, 5])\n",
        "\n",
        "# Modifying an element\n",
        "numbers[1] = 10\n",
        "print(numbers)  # Output: array('i', [1, 10, 3, 4, 5])\n"
      ],
      "metadata": {
        "colab": {
          "base_uri": "https://localhost:8080/"
        },
        "id": "MRBFKc1ILCT0",
        "outputId": "3dea8bab-1175-49e0-b0ae-d80763cda274"
      },
      "execution_count": null,
      "outputs": [
        {
          "output_type": "stream",
          "name": "stdout",
          "text": [
            "array('i', [1, 10, 3, 4, 5])\n"
          ]
        }
      ]
    },
    {
      "cell_type": "code",
      "source": [
        "import array\n",
        "\n",
        "numbers = array.array('i', [1, 2, 3, 4, 5])\n",
        "\n",
        "# Length of the array\n",
        "print(len(numbers))  # Output: 5\n",
        "\n",
        "# Appending elements to the array\n",
        "numbers.append(6)\n",
        "print(numbers)  # Output: array('i', [1, 2, 3, 4, 5, 6])\n",
        "\n",
        "# Removing elements from the array\n",
        "numbers.remove(3)\n",
        "print(numbers)  # Output: array('i', [1, 2, 4, 5, 6])\n"
      ],
      "metadata": {
        "colab": {
          "base_uri": "https://localhost:8080/"
        },
        "id": "MPjqGowwLYRs",
        "outputId": "8d79344b-83db-4b25-aae7-107d30987957"
      },
      "execution_count": null,
      "outputs": [
        {
          "output_type": "stream",
          "name": "stdout",
          "text": [
            "5\n",
            "array('i', [1, 2, 3, 4, 5, 6])\n",
            "array('i', [1, 2, 4, 5, 6])\n"
          ]
        }
      ]
    },
    {
      "cell_type": "code",
      "source": [
        "import array\n",
        "\n",
        "numbers = array.array('i', [1, 2, 3, 4, 5])\n",
        "\n",
        "# Iterating over the array\n",
        "for num in numbers:\n",
        "    print(num)\n",
        "\n",
        "# Output:\n",
        "# 1\n",
        "# 2\n",
        "# 3\n",
        "# 4\n",
        "# 5\n"
      ],
      "metadata": {
        "colab": {
          "base_uri": "https://localhost:8080/"
        },
        "id": "BHfjpSE6LuEv",
        "outputId": "5b02ef50-e7f4-4b6c-dc65-c5767cbd66b9"
      },
      "execution_count": null,
      "outputs": [
        {
          "output_type": "stream",
          "name": "stdout",
          "text": [
            "1\n",
            "2\n",
            "3\n",
            "4\n",
            "5\n"
          ]
        }
      ]
    },
    {
      "cell_type": "code",
      "source": [
        "import array\n",
        "\n",
        "numbers = array.array('i', [1, 2, 3, 4, 5])\n",
        "\n",
        "# Converting array to list\n",
        "numbers_list = numbers.tolist()\n",
        "print(numbers_list)  # Output: [1, 2, 3, 4, 5]\n"
      ],
      "metadata": {
        "colab": {
          "base_uri": "https://localhost:8080/"
        },
        "id": "tHcvQm9LL-_u",
        "outputId": "14097b06-ac87-46be-dd4c-330a278f29c7"
      },
      "execution_count": null,
      "outputs": [
        {
          "output_type": "stream",
          "name": "stdout",
          "text": [
            "[1, 2, 3, 4, 5]\n"
          ]
        }
      ]
    },
    {
      "cell_type": "code",
      "source": [
        "import array\n",
        "\n",
        "# Create an array of integers\n",
        "numbers = array.array('i', [1, 2, 3, 4, 5])\n",
        "\n",
        "# Accessing elements\n",
        "print(numbers[0])  # Output: 1\n",
        "\n",
        "# Modifying an element\n",
        "numbers[1] = 10\n",
        "print(numbers)  # Output: array('i', [1, 10, 3, 4, 5])\n",
        "\n",
        "# Array length\n",
        "print(len(numbers))  # Output: 5\n"
      ],
      "metadata": {
        "colab": {
          "base_uri": "https://localhost:8080/"
        },
        "id": "QpBVwifjMnZ1",
        "outputId": "04e827fc-486c-4dc2-faa7-aab8a5aa4aeb"
      },
      "execution_count": null,
      "outputs": [
        {
          "output_type": "stream",
          "name": "stdout",
          "text": [
            "1\n",
            "array('i', [1, 10, 3, 4, 5])\n",
            "5\n"
          ]
        }
      ]
    },
    {
      "cell_type": "code",
      "source": [
        "import numpy as np\n",
        "\n",
        "# Create a numpy array of integers\n",
        "numbers = np.array([1, 2, 3, 4, 5])\n",
        "\n",
        "# Accessing elements\n",
        "print(numbers[0])  # Output: 1\n",
        "\n",
        "# Modifying an element\n",
        "numbers[1] = 10\n",
        "print(numbers)  # Output: [ 1 10  3  4  5]\n",
        "\n",
        "# Array length\n",
        "print(len(numbers))  # Output: 5\n"
      ],
      "metadata": {
        "colab": {
          "base_uri": "https://localhost:8080/"
        },
        "id": "CW4s1uvPMwTi",
        "outputId": "474adf6e-6ced-45ea-d3eb-908eb1d0652a"
      },
      "execution_count": null,
      "outputs": [
        {
          "output_type": "stream",
          "name": "stdout",
          "text": [
            "1\n",
            "[ 1 10  3  4  5]\n",
            "5\n"
          ]
        }
      ]
    },
    {
      "cell_type": "code",
      "source": [
        "import array\n",
        "\n",
        "numbers = array.array('i', [10, 5, 8, 12, 3])\n",
        "\n",
        "max_number = numbers[0]\n",
        "for num in numbers:\n",
        "    if num > max_number:\n",
        "        max_number = num\n",
        "\n",
        "print(\"Maximum element:\", max_number)\n"
      ],
      "metadata": {
        "colab": {
          "base_uri": "https://localhost:8080/"
        },
        "id": "3cfBZm63OoZM",
        "outputId": "5e16c2b5-14e1-4ce8-ddeb-9603b85c3bcd"
      },
      "execution_count": null,
      "outputs": [
        {
          "output_type": "stream",
          "name": "stdout",
          "text": [
            "Maximum element: 12\n"
          ]
        }
      ]
    },
    {
      "cell_type": "code",
      "source": [
        "import array\n",
        "\n",
        "numbers = array.array('i', [10, 5, 8, 12, 3])\n",
        "\n",
        "sum_numbers = sum(numbers)\n",
        "average = sum_numbers / len(numbers)\n",
        "\n",
        "print(\"Average:\", average)\n"
      ],
      "metadata": {
        "colab": {
          "base_uri": "https://localhost:8080/"
        },
        "id": "dERLxdfaPdcU",
        "outputId": "19e17c1c-6818-46fa-a1aa-977e4266dd53"
      },
      "execution_count": null,
      "outputs": [
        {
          "output_type": "stream",
          "name": "stdout",
          "text": [
            "Average: 7.6\n"
          ]
        }
      ]
    },
    {
      "cell_type": "code",
      "source": [
        "import array\n",
        "\n",
        "numbers = array.array('i', [10, 5, 8, 12, 3])\n",
        "\n",
        "reversed_numbers = array.array('i', [])\n",
        "for i in range(len(numbers)-1, -1, -1):\n",
        "    reversed_numbers.append(numbers[i])\n",
        "\n",
        "print(\"Reversed list:\", reversed_numbers)\n"
      ],
      "metadata": {
        "colab": {
          "base_uri": "https://localhost:8080/"
        },
        "id": "CXEwOhzqP1GH",
        "outputId": "2f76fb4d-d588-44d7-96df-61cf1795953f"
      },
      "execution_count": null,
      "outputs": [
        {
          "output_type": "stream",
          "name": "stdout",
          "text": [
            "Reversed list: array('i', [3, 12, 8, 5, 10])\n"
          ]
        }
      ]
    },
    {
      "cell_type": "code",
      "source": [
        "new_list = [expression for item in iterable if condition]\n"
      ],
      "metadata": {
        "id": "ZZIdjXjwWWtP"
      },
      "execution_count": null,
      "outputs": []
    },
    {
      "cell_type": "code",
      "source": [
        "numbers = [1, 2, 3, 4, 5]\n",
        "squared_numbers = [num**2 for num in numbers]\n",
        "print(squared_numbers)  # Output: [1, 4, 9, 16, 25]\n"
      ],
      "metadata": {
        "id": "NlYwokkhWw5f"
      },
      "execution_count": null,
      "outputs": []
    },
    {
      "cell_type": "code",
      "source": [
        "numbers = [1, 2, 3, 4, 5]\n",
        "even_numbers = [num for num in numbers if num % 2 == 0]\n",
        "print(even_numbers)  # Output: [2, 4]\n"
      ],
      "metadata": {
        "id": "3aPYaqEPXCWZ"
      },
      "execution_count": null,
      "outputs": []
    },
    {
      "cell_type": "code",
      "source": [
        "words = [\"apple\", \"banana\", \"cherry\"]\n",
        "initials = [word[0] for word in words]\n",
        "print(initials)  # Output: ['a', 'b', 'c']\n"
      ],
      "metadata": {
        "id": "uGMi9SpEXOzn"
      },
      "execution_count": null,
      "outputs": []
    },
    {
      "cell_type": "code",
      "source": [
        "import array\n",
        "\n",
        "# Define an array variable\n",
        "my_array = array.array('i')\n",
        "\n",
        "# Add elements to the array\n",
        "my_array.append(10)\n",
        "my_array.append(20)\n",
        "my_array.append(30)\n",
        "\n",
        "# Access and print the elements of the array\n",
        "for element in my_array:\n",
        "    print(element)\n"
      ],
      "metadata": {
        "id": "dsYdqUzmYiPh"
      },
      "execution_count": null,
      "outputs": []
    },
    {
      "cell_type": "code",
      "source": [
        "import numpy as np\n",
        "\n",
        "# Prompt for the number of elements in the array\n",
        "num_elements = int(input(\"Enter the number of elements: \"))\n",
        "\n",
        "# Create an empty list to store the inputs\n",
        "elements = []\n",
        "\n",
        "# Prompt for the inputs in a loop\n",
        "for i in range(num_elements):\n",
        "    value = float(input(f\"Enter element {i+1}: \"))\n",
        "    elements.append(value)\n",
        "\n",
        "# Convert the list to a numpy array\n",
        "my_array = np.array(elements)\n",
        "\n",
        "# Print the numpy array\n",
        "print(\"Numpy array:\", my_array)\n"
      ],
      "metadata": {
        "colab": {
          "base_uri": "https://localhost:8080/"
        },
        "id": "6oHz-6E0HMfb",
        "outputId": "d67ef68d-b03d-48e3-edc0-a7a7ec28a48f"
      },
      "execution_count": null,
      "outputs": [
        {
          "output_type": "stream",
          "name": "stdout",
          "text": [
            "Enter the number of elements: 5\n",
            "Enter element 1: 3\n",
            "Enter element 2: 4\n",
            "Enter element 3: 7\n",
            "Enter element 4: 3\n",
            "Enter element 5: 9\n",
            "Numpy array: [3. 4. 7. 3. 9.]\n"
          ]
        }
      ]
    },
    {
      "cell_type": "code",
      "source": [
        "# List\n",
        "lst = [1, 2, 3, 4]\n",
        "lst.append(5)\n",
        "\n",
        "# Tuple\n",
        "t = (1, 2, 3, 4)\n",
        "\n",
        "# String\n",
        "s = \"Hello\"\n"
      ],
      "metadata": {
        "id": "S4LiPdQDuqNi"
      },
      "execution_count": null,
      "outputs": []
    },
    {
      "cell_type": "code",
      "source": [
        "from itertools import permutations\n",
        "\n",
        "def generate_possible_words(input_string):\n",
        "    input_string = input_string.strip()\n",
        "    characters = list(input_string)\n",
        "    possible_words = set()\n",
        "\n",
        "    # Generate all possible permutations of characters\n",
        "    for r in range(1, len(characters) + 1):\n",
        "        for perm in permutations(characters, r):\n",
        "            possible_words.add(''.join(perm))\n",
        "\n",
        "    return possible_words\n",
        "\n",
        "# Ask the user to input a string\n",
        "user_input = input(\"Enter a string: \")\n",
        "possible_words = generate_possible_words(user_input)\n",
        "\n",
        "print(\"\\nAll possible words:\")\n",
        "for word in possible_words:\n",
        "    print(word)\n"
      ],
      "metadata": {
        "id": "_e_DZ1fFuwbo"
      },
      "execution_count": null,
      "outputs": []
    },
    {
      "cell_type": "code",
      "source": [
        "def are_anagrams(str1, str2):\n",
        "    str1 = str1.replace(\" \", \"\").lower()\n",
        "    str2 = str2.replace(\" \", \"\").lower()\n",
        "    return sorted(str1) == sorted(str2)\n",
        "\n",
        "string1 = \"listen\"\n",
        "string2 = \"silent\"\n",
        "result = are_anagrams(string1, string2)\n",
        "print(result)  # Should print True\n"
      ],
      "metadata": {
        "id": "XbVQ-Metu4U7"
      },
      "execution_count": null,
      "outputs": []
    },
    {
      "cell_type": "code",
      "source": [
        "def reverse_sentence(sentence):\n",
        "    words = sentence.split()\n",
        "    reversed_words = [word[::-1] for word in words]\n",
        "    reversed_sentence = ' '.join(reversed_words)\n",
        "    return reversed_sentence\n",
        "\n",
        "input_sentence = \"Hello World\"\n",
        "result = reverse_sentence(input_sentence)\n",
        "print(result)  # Should print \"olleH dlroW\"\n"
      ],
      "metadata": {
        "id": "aGnWZmC1u7LI"
      },
      "execution_count": null,
      "outputs": []
    },
    {
      "cell_type": "code",
      "source": [
        "import numpy as np\n",
        "\n",
        "# Create a NumPy array\n",
        "my_array = np.array([1, 2, 3, 4, 5, 6, 7, 8, 9])\n",
        "\n",
        "# Extract a subarray from index 2 to 5 (inclusive)\n",
        "subarray = my_array[2:6]\n",
        "print(subarray)\n",
        "\n",
        "# Reverse the array\n",
        "reversed_array = my_array[::-1]\n",
        "print(reversed_array)\n",
        "\n",
        "# Extract even-indexed elements\n",
        "even_indices = my_array[::2]\n",
        "print(even_indices)\n"
      ],
      "metadata": {
        "id": "fd_xLbppu_vb"
      },
      "execution_count": null,
      "outputs": []
    },
    {
      "cell_type": "code",
      "source": [
        "def remove_duplicates(input_list):\n",
        "    unique_list = []\n",
        "    for item in input_list:\n",
        "        if item not in unique_list:\n",
        "            unique_list.append(item)\n",
        "    return unique_list\n",
        "\n",
        "my_list = [1, 2, 2, 3, 4, 4, 5]\n",
        "result = remove_duplicates(my_list)\n",
        "print(result)\n"
      ],
      "metadata": {
        "id": "WfpLbSyuvEL2"
      },
      "execution_count": null,
      "outputs": []
    },
    {
      "cell_type": "code",
      "source": [
        "def is_palindrome(string):\n",
        "    cleaned_string = ''.join(filter(str.isalnum, string)).lower()\n",
        "    return cleaned_string == cleaned_string[::-1]\n",
        "\n",
        "input_string = \"A man, a plan, a canal, Panama\"\n",
        "result = is_palindrome(input_string)\n",
        "print(\"Is Palindrome:\", result)\n"
      ],
      "metadata": {
        "id": "biKolWfpvILu"
      },
      "execution_count": null,
      "outputs": []
    },
    {
      "cell_type": "code",
      "source": [
        "def reverse_words(sentence):\n",
        "    words = sentence.split()\n",
        "    reversed_sentence = ' '.join(reversed(words))\n",
        "    return reversed_sentence\n",
        "\n",
        "input_sentence = \"Hello World\"\n",
        "result = reverse_words(input_sentence)\n",
        "print(result)\n"
      ],
      "metadata": {
        "id": "6MAnWgPrvKin"
      },
      "execution_count": null,
      "outputs": []
    },
    {
      "cell_type": "code",
      "source": [
        "import tensorflow as tf\n",
        "\n",
        "# Creating tensors\n",
        "scalar_tensor = tf.constant(42)\n",
        "vector_tensor = tf.constant([1, 2, 3, 4, 5])\n",
        "matrix_tensor = tf.constant([[1, 2, 3], [4, 5, 6]])\n",
        "\n",
        "# Performing operations\n",
        "result_tensor = scalar_tensor + 10\n",
        "element_wise_product = tf.multiply(vector_tensor, 2)\n",
        "matrix_product = tf.matmul(matrix_tensor, tf.constant([[5], [6], [7]]))\n",
        "\n",
        "# Printing results\n",
        "print(\"Scalar Tensor:\")\n",
        "print(result_tensor.numpy())\n",
        "\n",
        "print(\"\\nVector Tensor:\")\n",
        "print(element_wise_product.numpy())\n",
        "\n",
        "print(\"\\nMatrix Tensor:\")\n",
        "print(matrix_product.numpy())\n"
      ],
      "metadata": {
        "id": "YqcVwKeyvNfp"
      },
      "execution_count": null,
      "outputs": []
    },
    {
      "cell_type": "code",
      "source": [
        "list1 = [1, 2, 3, 4]\n",
        "list2 = ['a', 'b']\n",
        "print(list(zip(list1, list2)))  # Output: [(1, 'a'), (2, 'b')]\n"
      ],
      "metadata": {
        "id": "aUxlZyo1vZ0P"
      },
      "execution_count": null,
      "outputs": []
    },
    {
      "cell_type": "code",
      "source": [
        "zipped_pairs = [(1, 'a'), (2, 'b'), (3, 'c')]\n",
        "list1, list2 = zip(*zipped_pairs)\n",
        "print(list1)  # Output: (1, 2, 3)\n",
        "print(list2)  # Output: ('a', 'b', 'c')\n"
      ],
      "metadata": {
        "id": "OovtZ7vDvcpj"
      },
      "execution_count": null,
      "outputs": []
    },
    {
      "cell_type": "code",
      "source": [
        "names = [\"Alice\", \"Bob\", \"Charlie\"]\n",
        "scores = [85, 92, 88]\n",
        "for name, score in zip(names, scores):\n",
        "    print(f\"{name}: {score}\")\n"
      ],
      "metadata": {
        "id": "T42howrLvfLO"
      },
      "execution_count": null,
      "outputs": []
    },
    {
      "cell_type": "code",
      "source": [
        "list1 = [1, 2, 3]\n",
        "list2 = ['a', 'b', 'c']\n",
        "list3 = ['x', 'y', 'z']\n",
        "\n",
        "zipped = zip(list1, list2, list3)\n",
        "print(list(zipped))  # Output: [(1, 'a', 'x'), (2, 'b', 'y'), (3, 'c', 'z')]\n"
      ],
      "metadata": {
        "id": "FnSJDl_hvjeZ"
      },
      "execution_count": null,
      "outputs": []
    },
    {
      "cell_type": "code",
      "source": [
        "from itertools import combinations\n",
        "\n",
        "lst = [1, 2, 3, 4]\n",
        "combos = list(combinations(lst, 2))\n",
        "print(combos)  # Output: [(1, 2), (1, 3), (1, 4), (2, 3), (2, 4), (3, 4)]\n"
      ],
      "metadata": {
        "id": "i0-apTHxvodq"
      },
      "execution_count": null,
      "outputs": []
    },
    {
      "cell_type": "code",
      "source": [
        "# Splitting a string by a delimiter\n",
        "text = \"Hello, World! Welcome to Python.\"\n",
        "split_text = text.split(\", \")\n",
        "\n",
        "print(split_text)\n",
        "# Output: ['Hello', 'World! Welcome to Python.']\n",
        "\n",
        "# Splitting a string into a list of words\n",
        "sentence = \"Python programming is fun and powerful.\"\n",
        "words = sentence.split()\n",
        "\n",
        "print(words)\n",
        "# Output: ['Python', 'programming', 'is', 'fun', 'and', 'powerful.']\n"
      ],
      "metadata": {
        "colab": {
          "base_uri": "https://localhost:8080/"
        },
        "id": "Jv1cV-iaGiaC",
        "outputId": "6ca8c48c-7a6b-498c-b9e6-3d442092f5b7"
      },
      "execution_count": null,
      "outputs": [
        {
          "output_type": "stream",
          "name": "stdout",
          "text": [
            "['Hello', 'World! Welcome to Python.']\n",
            "['Python', 'programming', 'is', 'fun', 'and', 'powerful.']\n"
          ]
        }
      ]
    },
    {
      "cell_type": "code",
      "source": [
        "list_number = [5,10,15,20]\n",
        "reversal = list_number.reverse\n",
        "print(\"Reversed List:\", reversal)"
      ],
      "metadata": {
        "colab": {
          "base_uri": "https://localhost:8080/"
        },
        "id": "0knpEvVxGjA_",
        "outputId": "860cb2ab-d38c-4c22-d46c-9df7acf7086e"
      },
      "execution_count": null,
      "outputs": [
        {
          "output_type": "stream",
          "name": "stdout",
          "text": [
            "Reversed List: <built-in method reverse of list object at 0x7f697c590a00>\n"
          ]
        }
      ]
    },
    {
      "cell_type": "code",
      "source": [
        "import array\n",
        "\n",
        "# Prompt for the numbers and store them in an array\n",
        "numbers = array.array('f')\n",
        "\n",
        "# Prompt for the numbers\n",
        "while True:\n",
        "    value = input(\"Enter a number (or 'done' to finish): \")\n",
        "\n",
        "    if value.lower() == \"done\":\n",
        "        break\n",
        "\n",
        "    number = float(value)\n",
        "    numbers.append(number)\n",
        "\n",
        "# Calculate the average\n",
        "if len(numbers) > 0:\n",
        "    total = sum(numbers)\n",
        "    average = total / len(numbers)\n",
        "    print(\"Average:\", average)\n",
        "else:\n",
        "    print(\"No numbers entered.\")\n"
      ],
      "metadata": {
        "id": "tn-J_f0-kfTA"
      },
      "execution_count": null,
      "outputs": []
    }
  ]
}